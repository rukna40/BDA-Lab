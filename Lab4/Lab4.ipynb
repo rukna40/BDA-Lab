{
 "cells": [
  {
   "cell_type": "code",
   "execution_count": 6,
   "id": "2f2c7325",
   "metadata": {},
   "outputs": [],
   "source": [
    "from pyspark.sql import SparkSession\n",
    "import hashlib\n",
    "\n",
    "spark = SparkSession.builder.appName(\"Lab4\").getOrCreate()"
   ]
  },
  {
   "cell_type": "code",
   "execution_count": 7,
   "id": "e4748f38",
   "metadata": {},
   "outputs": [],
   "source": [
    "import json\n",
    "\n",
    "reviews_raw = spark.sparkContext.textFile('movies 1.json')\n",
    "reviews = reviews_raw.map(lambda line: json.loads(line))"
   ]
  },
  {
   "cell_type": "code",
   "execution_count": 8,
   "id": "b706c87b",
   "metadata": {},
   "outputs": [
    {
     "name": "stdout",
     "output_type": "stream",
     "text": [
      "Number of train samples: 39992\n",
      "Number of test samples: 10008\n"
     ]
    }
   ],
   "source": [
    "def get_hash(s):\n",
    "    return int(hashlib.sha1(s).hexdigest(), 16) % (10 ** 8)\n",
    "\n",
    "ratings = reviews.map(lambda entry: (\n",
    "    get_hash(entry['user_id'].encode('utf-8')),\n",
    "    get_hash(entry['product_id'].encode('utf-8')),\n",
    "    int(entry['score'])\n",
    "))\n",
    "train_data = ratings.filter(lambda entry: ((entry[0] + entry[1]) % 10) >= 2)\n",
    "test_data = ratings.filter(lambda entry: ((entry[0] + entry[1]) % 10) < 2)\n",
    "\n",
    "print (\"Number of train samples: \" + str(train_data.count()))\n",
    "print (\"Number of test samples: \" + str(test_data.count()))"
   ]
  },
  {
   "cell_type": "code",
   "execution_count": 9,
   "id": "c9e1c0c7",
   "metadata": {},
   "outputs": [],
   "source": [
    "from pyspark.mllib.recommendation import ALS\n",
    "\n",
    "rank = 20\n",
    "numIterations = 20\n",
    "\n",
    "model = ALS.train(train_data, rank, numIterations)\n",
    "\n",
    "unknown = test_data.map(lambda entry: (int(entry[0]), int(entry[1])))\n",
    "\n",
    "predictions = model.predictAll(unknown).map(lambda r: ((int(r[0]), int(r[1])), r[2]))"
   ]
  },
  {
   "cell_type": "code",
   "execution_count": 10,
   "id": "3951af2e",
   "metadata": {},
   "outputs": [
    {
     "name": "stdout",
     "output_type": "stream",
     "text": [
      "Mean Squared Error = 7.779685460451557\n"
     ]
    },
    {
     "name": "stderr",
     "output_type": "stream",
     "text": [
      "\r",
      "[Stage 640:====================================================>  (21 + 1) / 22]\r",
      "\r",
      "                                                                                \r"
     ]
    }
   ],
   "source": [
    "true_and_predictions = test_data.map(lambda r: ((int(r[0]), int(r[1])), r[2])).join(predictions)\n",
    "\n",
    "MSE = true_and_predictions.map(lambda r: (r[1][0] - r[1][1]) ** 2).mean()\n",
    "\n",
    "print(\"Mean Squared Error = \" + str(MSE))"
   ]
  }
 ],
 "metadata": {
  "kernelspec": {
   "display_name": "Python 3 (ipykernel)",
   "language": "python",
   "name": "python3"
  },
  "language_info": {
   "codemirror_mode": {
    "name": "ipython",
    "version": 3
   },
   "file_extension": ".py",
   "mimetype": "text/x-python",
   "name": "python",
   "nbconvert_exporter": "python",
   "pygments_lexer": "ipython3",
   "version": "3.10.12"
  }
 },
 "nbformat": 4,
 "nbformat_minor": 5
}
