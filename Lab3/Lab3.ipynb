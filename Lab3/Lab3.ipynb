{
 "cells": [
  {
   "cell_type": "code",
   "execution_count": 5,
   "id": "e8c71ea7",
   "metadata": {},
   "outputs": [],
   "source": [
    "from pyspark.sql import SparkSession\n",
    "\n",
    "spark = SparkSession.builder.appName(\"Lab3\").getOrCreate()"
   ]
  },
  {
   "cell_type": "code",
   "execution_count": 6,
   "id": "bd575009",
   "metadata": {},
   "outputs": [
    {
     "name": "stdout",
     "output_type": "stream",
     "text": [
      "+---+------------------+--------------------+--------------------+--------------------+\n",
      "| id|              name|             address|         name_tokens|      address_tokens|\n",
      "+---+------------------+--------------------+--------------------+--------------------+\n",
      "|  1|     kellia corwin|    9920 welch place|    [kellia, corwin]|[9920, welch, place]|\n",
      "|  2|     brock sealove|  496 warbler avenue|    [brock, sealove]|[496, warbler, av...|\n",
      "|  3|    alberta leguay|    72 sommers court|   [alberta, leguay]|[72, sommers, court]|\n",
      "|  4|     wendell mobbs|54569 manufacture...|    [wendell, mobbs]|[54569, manufactu...|\n",
      "|  5|   marjie allpress|96999 hoard crossing|  [marjie, allpress]|[96999, hoard, cr...|\n",
      "|  6|  jeremiah belliss|      6 manley place| [jeremiah, belliss]|  [6, manley, place]|\n",
      "|  7|  allison bretelle|    1 towne crossing| [allison, bretelle]|[1, towne, crossing]|\n",
      "|  8| allistir berthome|23 lake view terrace|[allistir, berthome]|[23, lake, view, ...|\n",
      "|  9|       dulcie line|      5 porter alley|      [dulcie, line]|  [5, porter, alley]|\n",
      "| 10|   miller klousner|     3590 truax lane|  [miller, klousner]| [3590, truax, lane]|\n",
      "| 11|      junia hember|  768 algoma parkway|     [junia, hember]|[768, algoma, par...|\n",
      "| 12|veronique blagburn|68005 mariners co...|[veronique, blagb...|[68005, mariners,...|\n",
      "| 13|      kaia cornels|09838 bartelt par...|     [kaia, cornels]|[09838, bartelt, ...|\n",
      "| 14|   jackie blastock|        5 dixon road|  [jackie, blastock]|    [5, dixon, road]|\n",
      "| 15|       emera barti|       9 forster way|      [emera, barti]|   [9, forster, way]|\n",
      "| 16|     nerissa chadd| 29863 sherman plaza|    [nerissa, chadd]|[29863, sherman, ...|\n",
      "| 17|bridgette tilmouth| 13 crownhardt drive|[bridgette, tilmo...|[13, crownhardt, ...|\n",
      "| 18|   nevile merriman|  1566 hoffman place|  [nevile, merriman]|[1566, hoffman, p...|\n",
      "| 19|     shaine dorgan|1213 springview t...|    [shaine, dorgan]|[1213, springview...|\n",
      "| 20|    ariel frampton|08705 golden leaf...|   [ariel, frampton]|[08705, golden, l...|\n",
      "+---+------------------+--------------------+--------------------+--------------------+\n",
      "only showing top 20 rows\n",
      "\n"
     ]
    }
   ],
   "source": [
    "from pyspark.sql.functions import col, lower, regexp_replace\n",
    "from pyspark.ml.feature import Tokenizer\n",
    "\n",
    "df = spark.read.csv('data.csv',header=True)\n",
    "\n",
    "df = df.withColumn(\"name\", lower(col(\"name\")))\n",
    "df = df.withColumn(\"address\", lower(col(\"address\")))\n",
    "\n",
    "df = df.withColumn(\"address\", regexp_replace(col(\"address\"), \"[^a-z0-9\\\\s]\", \"\"))\n",
    "\n",
    "tokenizer = Tokenizer(inputCol=\"name\", outputCol=\"name_tokens\")\n",
    "df = tokenizer.transform(df)\n",
    "\n",
    "tokenizer_address = Tokenizer(inputCol=\"address\", outputCol=\"address_tokens\")\n",
    "df = tokenizer_address.transform(df)\n",
    "\n",
    "df.show()"
   ]
  },
  {
   "cell_type": "code",
   "execution_count": 7,
   "id": "2ace704d",
   "metadata": {},
   "outputs": [
    {
     "name": "stdout",
     "output_type": "stream",
     "text": [
      "+-----+--------+\n",
      "|score|is_match|\n",
      "+-----+--------+\n",
      "|  4.0|    true|\n",
      "|  5.0|    true|\n",
      "|  5.0|    true|\n",
      "|  5.0|    true|\n",
      "|  5.0|    true|\n",
      "|  5.0|    true|\n",
      "|  5.0|    true|\n",
      "|  4.0|    true|\n",
      "|  5.0|    true|\n",
      "|  5.0|    true|\n",
      "|  5.0|    true|\n",
      "|  5.0|    true|\n",
      "|  5.0|    true|\n",
      "|  5.0|    true|\n",
      "|  4.0|    true|\n",
      "|  5.0|    true|\n",
      "|  5.0|    true|\n",
      "|  5.0|    true|\n",
      "|  5.0|    true|\n",
      "|  5.0|    true|\n",
      "+-----+--------+\n",
      "only showing top 20 rows\n",
      "\n"
     ]
    }
   ],
   "source": [
    "from pyspark.sql.functions import expr\n",
    "\n",
    "parsed = spark.read.option(\"header\", \"true\").option(\"nullValue\", \"?\").\\\n",
    "         option(\"inferSchema\", \"true\").csv(\"donation/block_1.csv\")\n",
    "\n",
    "good_features = [\"cmp_lname_c1\", \"cmp_plz\", \"cmp_by\", \"cmp_bd\", \"cmp_bm\"]\n",
    "sum_expression = \" + \".join(good_features)\n",
    "\n",
    "scored = parsed.fillna(0, subset=good_features).\\\n",
    "         withColumn('score', expr(sum_expression)).\\\n",
    "         select('score', 'is_match')\n",
    "\n",
    "scored.show()"
   ]
  },
  {
   "cell_type": "code",
   "execution_count": 9,
   "id": "e8c4a118",
   "metadata": {},
   "outputs": [
    {
     "name": "stdout",
     "output_type": "stream",
     "text": [
      "Precision =  0.9693450998606595 Recall =  0.9971333014811276 F1 Score = 0.9830428638718794\n"
     ]
    }
   ],
   "source": [
    "def crossTabs(scored, t):\n",
    "    return scored.selectExpr(f\"score >= {t} as above\", \"is_match\").\\\n",
    "    groupBy(\"above\").pivot(\"is_match\", (\"true\", \"false\")).count()\n",
    "\n",
    "res=crossTabs(scored, 4.0).collect()\n",
    "\n",
    "TP=res[0][1]\n",
    "FP=res[0][2]\n",
    "FN=res[1][1]\n",
    "TN=res[1][2]\n",
    "\n",
    "p=TP/(TP+FP)\n",
    "r=TP/(TP+FN)\n",
    "f1=2*(p*r/(p+r))\n",
    "print('Precision = ',p,'Recall = ',r,'F1 Score =',f1)"
   ]
  }
 ],
 "metadata": {
  "kernelspec": {
   "display_name": "Python 3 (ipykernel)",
   "language": "python",
   "name": "python3"
  },
  "language_info": {
   "codemirror_mode": {
    "name": "ipython",
    "version": 3
   },
   "file_extension": ".py",
   "mimetype": "text/x-python",
   "name": "python",
   "nbconvert_exporter": "python",
   "pygments_lexer": "ipython3",
   "version": "3.10.12"
  }
 },
 "nbformat": 4,
 "nbformat_minor": 5
}
