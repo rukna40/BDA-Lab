{
 "cells": [
  {
   "cell_type": "code",
   "execution_count": 1,
   "id": "777f60cd",
   "metadata": {},
   "outputs": [
    {
     "name": "stderr",
     "output_type": "stream",
     "text": [
      "24/10/07 10:56:20 WARN Utils: Your hostname, mahe-HP-Z1-G9-Tower-Desktop-PC resolves to a loopback address: 127.0.1.1; using 172.16.57.86 instead (on interface eno1)\n",
      "24/10/07 10:56:20 WARN Utils: Set SPARK_LOCAL_IP if you need to bind to another address\n",
      "Setting default log level to \"WARN\".\n",
      "To adjust logging level use sc.setLogLevel(newLevel). For SparkR, use setLogLevel(newLevel).\n",
      "24/10/07 10:56:21 WARN NativeCodeLoader: Unable to load native-hadoop library for your platform... using builtin-java classes where applicable\n"
     ]
    }
   ],
   "source": [
    "from pyspark.sql import SparkSession\n",
    "\n",
    "spark = SparkSession.builder.appName(\"Lab7\").getOrCreate()"
   ]
  },
  {
   "cell_type": "code",
   "execution_count": 2,
   "id": "7e55655f",
   "metadata": {},
   "outputs": [],
   "source": [
    "data = spark.read.option(\"inferSchema\", True).option(\"header\", False).csv(\"kddcup.data_10_percent_corrected\")"
   ]
  },
  {
   "cell_type": "code",
   "execution_count": 3,
   "id": "cd5e6577",
   "metadata": {},
   "outputs": [
    {
     "name": "stderr",
     "output_type": "stream",
     "text": [
      "24/10/07 10:56:23 WARN SparkStringUtils: Truncated the string representation of a plan since it was too large. This behavior can be adjusted by setting 'spark.sql.debug.maxToStringFields'.\n"
     ]
    },
    {
     "data": {
      "text/plain": [
       "Row(duration=0, protocol_type='tcp', service='http', flag='SF', src_bytes=181, dst_bytes=5450, land=0, wrong_fragment=0, urgent=0, hot=0, num_failed_logins=0, logged_in=1, num_compromised=0, root_shell=0, su_attempted=0, num_root=0, num_file_creations=0, num_shells=0, num_access_files=0, num_outbound_cmds=0, is_host_login=0, is_guest_login=0, count=8, srv_count=8, serror_rate=0.0, srv_serror_rate=0.0, rerror_rate=0.0, srv_rerror_rate=0.0, same_srv_rate=1.0, diff_srv_rate=0.0, srv_diff_host_rate=0.0, dst_host_count=9, dst_host_srv_count=9, dst_host_same_srv_rate=1.0, dst_host_diff_srv_rate=0.0, dst_host_same_src_port_rate=0.11, dst_host_srv_diff_host_rate=0.0, dst_host_serror_rate=0.0, dst_host_srv_serror_rate=0.0, dst_host_rerror_rate=0.0, dst_host_srv_rerror_rate=0.0, label='normal.')"
      ]
     },
     "execution_count": 3,
     "metadata": {},
     "output_type": "execute_result"
    }
   ],
   "source": [
    "column_names = [ \"duration\", \"protocol_type\", \"service\", \"flag\",\"src_bytes\", \"dst_bytes\", \"land\", \"wrong_fragment\", \n",
    "                \"urgent\",\"hot\", \"num_failed_logins\", \"logged_in\", \"num_compromised\",\"root_shell\", \"su_attempted\", \n",
    "                \"num_root\", \"num_file_creations\", \"num_shells\", \"num_access_files\", \"num_outbound_cmds\", \n",
    "                \"is_host_login\", \"is_guest_login\", \"count\", \"srv_count\", \"serror_rate\", \"srv_serror_rate\", \n",
    "                \"rerror_rate\", \"srv_rerror_rate\", \"same_srv_rate\", \"diff_srv_rate\", \"srv_diff_host_rate\", \n",
    "                \"dst_host_count\", \"dst_host_srv_count\", \"dst_host_same_srv_rate\", \"dst_host_diff_srv_rate\", \n",
    "                \"dst_host_same_src_port_rate\", \"dst_host_srv_diff_host_rate\", \"dst_host_serror_rate\", \n",
    "                \"dst_host_srv_serror_rate\", \"dst_host_rerror_rate\", \"dst_host_srv_rerror_rate\", \"label\"]\n",
    "\n",
    "data = data.toDF(*column_names)\n",
    "data.head()"
   ]
  },
  {
   "cell_type": "code",
   "execution_count": 4,
   "id": "e22a07db",
   "metadata": {},
   "outputs": [
    {
     "name": "stdout",
     "output_type": "stream",
     "text": [
      "+----------------+------+\n",
      "|           label| count|\n",
      "+----------------+------+\n",
      "|          smurf.|280790|\n",
      "|        neptune.|107201|\n",
      "|         normal.| 97278|\n",
      "|           back.|  2203|\n",
      "|          satan.|  1589|\n",
      "|        ipsweep.|  1247|\n",
      "|      portsweep.|  1040|\n",
      "|    warezclient.|  1020|\n",
      "|       teardrop.|   979|\n",
      "|            pod.|   264|\n",
      "|           nmap.|   231|\n",
      "|   guess_passwd.|    53|\n",
      "|buffer_overflow.|    30|\n",
      "|           land.|    21|\n",
      "|    warezmaster.|    20|\n",
      "|           imap.|    12|\n",
      "|        rootkit.|    10|\n",
      "|     loadmodule.|     9|\n",
      "|      ftp_write.|     8|\n",
      "|       multihop.|     7|\n",
      "|            phf.|     4|\n",
      "|           perl.|     3|\n",
      "|            spy.|     2|\n",
      "+----------------+------+\n",
      "\n"
     ]
    }
   ],
   "source": [
    "from pyspark.sql.functions import col\n",
    "data.select(\"label\").groupBy(\"label\").count().orderBy(col(\"count\").desc()).show(25)"
   ]
  },
  {
   "cell_type": "code",
   "execution_count": 5,
   "id": "c600dff7",
   "metadata": {},
   "outputs": [],
   "source": [
    "numeric = data.drop(\"protocol_type\", \"service\", \"flag\").cache()\n",
    "k=23"
   ]
  },
  {
   "cell_type": "code",
   "execution_count": 6,
   "id": "9b1a4599",
   "metadata": {},
   "outputs": [
    {
     "name": "stderr",
     "output_type": "stream",
     "text": [
      "24/10/07 10:56:27 WARN InstanceBuilder: Failed to load implementation from:dev.ludovic.netlib.blas.VectorBLAS\n"
     ]
    }
   ],
   "source": [
    "from pyspark.ml.feature import VectorAssembler\n",
    "from pyspark.ml.clustering import KMeans, KMeansModel\n",
    "from pyspark.ml import Pipeline\n",
    "from pyspark.ml.feature import StandardScaler\n",
    "\n",
    "assembler = VectorAssembler().setInputCols(numeric.columns[:-1]).setOutputCol(\"featureVector\")\n",
    "\n",
    "scaler = StandardScaler().setInputCol(\"featureVector\").setOutputCol(\"scaledFeatureVector\") \\\n",
    ".setWithStd(True).setWithMean(False)\n",
    "\n",
    "kmeans = KMeans().setK(k).setMaxIter(40).setTol(1.0e-5).setPredictionCol(\"cluster\") \\\n",
    ".setFeaturesCol(\"scaledFeatureVector\")\n",
    "\n",
    "pipeline = Pipeline().setStages([assembler, scaler, kmeans])\n",
    "\n",
    "model = pipeline.fit(numeric)\n",
    "predictions = model.transform(numeric)\n",
    "\n",
    "kmeans_model = model.stages[-1]"
   ]
  },
  {
   "cell_type": "code",
   "execution_count": 7,
   "id": "44128ddc",
   "metadata": {},
   "outputs": [
    {
     "name": "stdout",
     "output_type": "stream",
     "text": [
      "3346023.3095875485\n"
     ]
    }
   ],
   "source": [
    "training_cost = kmeans_model.summary.trainingCost\n",
    "print(training_cost)"
   ]
  },
  {
   "cell_type": "code",
   "execution_count": 8,
   "id": "68bd17fd",
   "metadata": {},
   "outputs": [
    {
     "name": "stdout",
     "output_type": "stream",
     "text": [
      "[array([6.52644815e-06, 8.08265265e-03, 3.27392061e-05, 0.00000000e+00,\n",
      "       0.00000000e+00, 0.00000000e+00, 2.94561857e-05, 0.00000000e+00,\n",
      "       2.59328536e-04, 5.76480016e-05, 0.00000000e+00, 0.00000000e+00,\n",
      "       0.00000000e+00, 0.00000000e+00, 0.00000000e+00, 0.00000000e+00,\n",
      "       0.00000000e+00, 0.00000000e+00, 0.00000000e+00, 8.89327466e-01,\n",
      "       4.50757516e-02, 2.62599451e+00, 2.62401682e+00, 4.12270436e-04,\n",
      "       3.08133412e-04, 1.84094598e-01, 7.72792301e-01, 9.73945053e-04,\n",
      "       3.93335585e+00, 1.05412738e-01, 1.07043331e-01, 6.07551502e-01,\n",
      "       2.89510090e-03, 8.09246547e-04, 2.62658852e+00, 2.62454897e+00,\n",
      "       1.74839170e-04, 2.42750007e-04]),\n",
      " array([0.00000000e+00, 9.46618409e-04, 7.17362618e-07, 0.00000000e+00,\n",
      "       0.00000000e+00, 0.00000000e+00, 0.00000000e+00, 0.00000000e+00,\n",
      "       0.00000000e+00, 0.00000000e+00, 0.00000000e+00, 0.00000000e+00,\n",
      "       0.00000000e+00, 0.00000000e+00, 0.00000000e+00, 0.00000000e+00,\n",
      "       0.00000000e+00, 0.00000000e+00, 0.00000000e+00, 2.37919508e+00,\n",
      "       2.05876419e+00, 0.00000000e+00, 0.00000000e+00, 0.00000000e+00,\n",
      "       0.00000000e+00, 2.57606093e+00, 1.16975164e-05, 4.00173619e-06,\n",
      "       3.93821092e+00, 2.40408637e+00, 2.43387500e+00, 2.17419706e-04,\n",
      "       2.07673733e+00, 0.00000000e+00, 2.42364827e-05, 0.00000000e+00,\n",
      "       8.15502165e-05, 0.00000000e+00]),\n",
      " array([2.25712033e-03, 4.56562677e-07, 3.36086208e-05, 0.00000000e+00,\n",
      "       0.00000000e+00, 0.00000000e+00, 0.00000000e+00, 0.00000000e+00,\n",
      "       7.91423045e-04, 0.00000000e+00, 0.00000000e+00, 0.00000000e+00,\n",
      "       0.00000000e+00, 0.00000000e+00, 0.00000000e+00, 0.00000000e+00,\n",
      "       0.00000000e+00, 0.00000000e+00, 0.00000000e+00, 8.30571516e-01,\n",
      "       4.07946473e-02, 0.00000000e+00, 0.00000000e+00, 4.31719184e+00,\n",
      "       4.30744618e+00, 2.53434462e-01, 7.82767466e-01, 4.64113500e-04,\n",
      "       3.92393216e+00, 1.00900704e-01, 1.04411083e-01, 8.69173096e-01,\n",
      "       6.57968231e-02, 1.11246476e-04, 3.01725857e-04, 1.10743110e-04,\n",
      "       4.31733939e+00, 4.34331970e+00]),\n",
      " array([2.10696917e+01, 1.33978521e-03, 7.65260262e+00, 0.00000000e+00,\n",
      "       0.00000000e+00, 0.00000000e+00, 0.00000000e+00, 0.00000000e+00,\n",
      "       2.81416844e+00, 4.59037951e+02, 9.47796493e+01, 2.56653021e+02,\n",
      "       4.59577472e+02, 0.00000000e+00, 0.00000000e+00, 1.91877076e+02,\n",
      "       0.00000000e+00, 0.00000000e+00, 0.00000000e+00, 4.69158875e-03,\n",
      "       4.05971323e-03, 0.00000000e+00, 0.00000000e+00, 0.00000000e+00,\n",
      "       0.00000000e+00, 2.57606148e+00, 0.00000000e+00, 0.00000000e+00,\n",
      "       7.87700987e-01, 9.43036475e-02, 4.99049399e-01, 7.77967149e-01,\n",
      "       4.15533255e-02, 0.00000000e+00, 2.62747802e-02, 1.18135213e-01,\n",
      "       0.00000000e+00, 0.00000000e+00]),\n",
      " array([0.01067465, 0.00853675, 0.12536267, 0.        , 0.01261428,\n",
      "       0.        , 0.03875801, 0.        , 2.67657054, 0.00770172,\n",
      "       0.        , 0.00632509, 0.01737479, 0.04191943, 0.        ,\n",
      "       0.        , 0.        , 0.        , 0.        , 0.02821937,\n",
      "       0.03583587, 0.00609515, 0.00679861, 0.00548593, 0.01372849,\n",
      "       2.57407565, 0.00684124, 1.60060068, 0.83644882, 1.93678873,\n",
      "       2.20607434, 0.1583703 , 0.27727477, 0.81692153, 0.00786424,\n",
      "       0.0040313 , 0.0377155 , 0.05169299]),\n",
      " array([6.17991709e-01, 2.90732027e-03, 9.91176358e-03, 0.00000000e+00,\n",
      "       0.00000000e+00, 0.00000000e+00, 3.17621912e-03, 0.00000000e+00,\n",
      "       3.50314648e-01, 4.60452076e-04, 2.61605436e-02, 0.00000000e+00,\n",
      "       2.30386988e-02, 2.29019831e-02, 0.00000000e+00, 0.00000000e+00,\n",
      "       0.00000000e+00, 0.00000000e+00, 0.00000000e+00, 8.92007896e-01,\n",
      "       5.36626184e-03, 1.71219875e-01, 1.74584156e-01, 1.69075024e+00,\n",
      "       1.67881686e+00, 6.87857476e-01, 1.05790710e+01, 3.10521670e-01,\n",
      "       3.60245107e+00, 2.06283698e-01, 2.39675947e-01, 6.03722515e+00,\n",
      "       7.29087103e-01, 1.20670247e-01, 1.74974227e-01, 1.74302606e-01,\n",
      "       1.63325100e+00, 1.69371878e+00]),\n",
      " array([0.00000000e+00, 2.83338263e-05, 1.74733525e-06, 0.00000000e+00,\n",
      "       2.22543265e+01, 0.00000000e+00, 0.00000000e+00, 0.00000000e+00,\n",
      "       0.00000000e+00, 0.00000000e+00, 0.00000000e+00, 0.00000000e+00,\n",
      "       0.00000000e+00, 0.00000000e+00, 0.00000000e+00, 0.00000000e+00,\n",
      "       0.00000000e+00, 0.00000000e+00, 0.00000000e+00, 2.83163983e-01,\n",
      "       2.02968920e-01, 1.86246542e-01, 0.00000000e+00, 6.94336976e-03,\n",
      "       0.00000000e+00, 2.38907129e+00, 1.16504618e-01, 0.00000000e+00,\n",
      "       3.69838909e+00, 5.53465191e-01, 6.05760893e-01, 1.85542098e+00,\n",
      "       5.16996195e-01, 0.00000000e+00, 5.42560668e-02, 0.00000000e+00,\n",
      "       9.52913953e-01, 0.00000000e+00]),\n",
      " array([1.80953088e+01, 1.88205417e-04, 1.98698237e-02, 0.00000000e+00,\n",
      "       0.00000000e+00, 0.00000000e+00, 3.83581396e-03, 0.00000000e+00,\n",
      "       7.87967165e-02, 3.89250836e-03, 0.00000000e+00, 0.00000000e+00,\n",
      "       9.93681021e-04, 6.22304135e-02, 0.00000000e+00, 0.00000000e+00,\n",
      "       0.00000000e+00, 0.00000000e+00, 0.00000000e+00, 7.69420554e-03,\n",
      "       5.18425379e-03, 0.00000000e+00, 0.00000000e+00, 4.20941791e-01,\n",
      "       4.22146346e-01, 2.36335608e+00, 9.81077993e-01, 5.96920730e-03,\n",
      "       3.77219191e+00, 2.37739495e-02, 4.29425922e-02, 6.34034074e+00,\n",
      "       1.90929220e+00, 3.08547665e-03, 9.09107396e-03, 8.74200574e-03,\n",
      "       3.30153791e-01, 3.89023525e-01]),\n",
      " array([3.73149494e-01, 1.35886718e-04, 1.38878710e+02, 0.00000000e+00,\n",
      "       0.00000000e+00, 0.00000000e+00, 0.00000000e+00, 0.00000000e+00,\n",
      "       6.70040106e-01, 0.00000000e+00, 0.00000000e+00, 0.00000000e+00,\n",
      "       0.00000000e+00, 0.00000000e+00, 0.00000000e+00, 0.00000000e+00,\n",
      "       0.00000000e+00, 0.00000000e+00, 0.00000000e+00, 5.13840672e-03,\n",
      "       4.44635258e-03, 0.00000000e+00, 0.00000000e+00, 0.00000000e+00,\n",
      "       0.00000000e+00, 2.57606148e+00, 0.00000000e+00, 0.00000000e+00,\n",
      "       7.93584841e-01, 2.71235253e-01, 1.98112758e+00, 9.58839063e-02,\n",
      "       1.49097289e+00, 6.32918286e-01, 9.38385009e-02, 1.07509294e-01,\n",
      "       0.00000000e+00, 0.00000000e+00]),\n",
      " array([2.58637178e-03, 5.44310660e-04, 4.99385969e-04, 0.00000000e+00,\n",
      "       0.00000000e+00, 0.00000000e+00, 2.44615392e-03, 0.00000000e+00,\n",
      "       9.69103348e-03, 2.12769322e-04, 0.00000000e+00, 0.00000000e+00,\n",
      "       0.00000000e+00, 0.00000000e+00, 0.00000000e+00, 0.00000000e+00,\n",
      "       0.00000000e+00, 0.00000000e+00, 0.00000000e+00, 5.26603237e-03,\n",
      "       5.97034926e-03, 1.25627665e-03, 2.80180444e-03, 4.30665538e+00,\n",
      "       4.24841182e+00, 2.57606148e+00, 0.00000000e+00, 1.59458762e+00,\n",
      "       3.05808596e-01, 1.96940548e+00, 2.42850045e+00, 6.12855202e-03,\n",
      "       6.06943279e-01, 3.52016146e+00, 9.24920521e-04, 9.69330019e-04,\n",
      "       4.17785292e+00, 3.96787555e+00]),\n",
      " array([3.38963187e+00, 2.26468226e-03, 1.39331109e+01, 0.00000000e+00,\n",
      "       0.00000000e+00, 5.44439124e+02, 0.00000000e+00, 1.28869326e+02,\n",
      "       2.81416844e+00, 1.16775251e+01, 0.00000000e+00, 0.00000000e+00,\n",
      "       5.96208612e+00, 1.03717356e+01, 0.00000000e+00, 0.00000000e+00,\n",
      "       0.00000000e+00, 0.00000000e+00, 0.00000000e+00, 4.69158875e-03,\n",
      "       4.05971323e-03, 0.00000000e+00, 0.00000000e+00, 0.00000000e+00,\n",
      "       0.00000000e+00, 2.57606148e+00, 0.00000000e+00, 0.00000000e+00,\n",
      "       5.56024226e-01, 9.43036475e-03, 7.30316194e-02, 1.00678102e+00,\n",
      "       6.23299883e-02, 0.00000000e+00, 0.00000000e+00, 0.00000000e+00,\n",
      "       0.00000000e+00, 0.00000000e+00]),\n",
      " array([1.89333335e-01, 1.01192237e-04, 1.19385589e+00, 0.00000000e+00,\n",
      "       0.00000000e+00, 3.62959416e+02, 0.00000000e+00, 0.00000000e+00,\n",
      "       2.81416844e+00, 5.56072624e-01, 0.00000000e+00, 0.00000000e+00,\n",
      "       4.96840510e-01, 0.00000000e+00, 0.00000000e+00, 2.74110108e+01,\n",
      "       0.00000000e+00, 0.00000000e+00, 0.00000000e+00, 4.69158875e-03,\n",
      "       4.05971323e-03, 0.00000000e+00, 0.00000000e+00, 0.00000000e+00,\n",
      "       0.00000000e+00, 2.57606148e+00, 0.00000000e+00, 0.00000000e+00,\n",
      "       3.08902348e-02, 9.43036475e-03, 1.21719366e+00, 9.15255469e+00,\n",
      "       1.03883314e+00, 0.00000000e+00, 0.00000000e+00, 0.00000000e+00,\n",
      "       0.00000000e+00, 0.00000000e+00]),\n",
      " array([6.99021789e-01, 8.54563988e-04, 6.09935148e-02, 0.00000000e+00,\n",
      "       0.00000000e+00, 0.00000000e+00, 2.27411649e+01, 0.00000000e+00,\n",
      "       2.81416844e+00, 0.00000000e+00, 0.00000000e+00, 0.00000000e+00,\n",
      "       0.00000000e+00, 4.56234703e-02, 0.00000000e+00, 0.00000000e+00,\n",
      "       0.00000000e+00, 0.00000000e+00, 2.68737505e+01, 4.89108446e-03,\n",
      "       4.12519247e-03, 3.85135370e-03, 3.84832503e-03, 9.49564159e-03,\n",
      "       6.31615217e-03, 2.53828932e+00, 3.13747755e-01, 6.17823768e-02,\n",
      "       2.69064362e+00, 4.38816166e-01, 6.71776675e-01, 5.43114206e-01,\n",
      "       3.33279605e-02, 7.65626959e-03, 2.98577048e-02, 1.69369481e-03,\n",
      "       4.90264517e-02, 1.62466224e-02]),\n",
      " array([1.81930323e-03, 3.84373107e-03, 1.40629744e-01, 0.00000000e+00,\n",
      "       0.00000000e+00, 5.58708540e-03, 1.37496646e-01, 0.00000000e+00,\n",
      "       2.81416844e+00, 3.04211887e-02, 9.04553023e-02, 3.95069610e-03,\n",
      "       1.43169361e-02, 2.61831882e-02, 0.00000000e+00, 0.00000000e+00,\n",
      "       0.00000000e+00, 0.00000000e+00, 0.00000000e+00, 4.94459829e-02,\n",
      "       5.29316264e-02, 4.11112385e-03, 4.80923812e-03, 1.10665200e-02,\n",
      "       2.73545935e-02, 2.57439047e+00, 5.83851655e-03, 4.29787596e-01,\n",
      "       3.59617462e+00, 2.23610985e+00, 2.29113154e+00, 3.82901501e-02,\n",
      "       2.82853520e-02, 1.04452854e-01, 4.46433447e-03, 2.54262791e-03,\n",
      "       1.88798187e-02, 1.79909672e-02]),\n",
      " array([1.17857595e-03, 1.26076233e-04, 1.38581679e-02, 2.25963339e+00,\n",
      "       4.77931617e-01, 0.00000000e+00, 9.63992541e-03, 0.00000000e+00,\n",
      "       2.25673549e-01, 2.66792897e-03, 3.24810313e-01, 0.00000000e+00,\n",
      "       4.08641955e-03, 1.42175950e-02, 0.00000000e+00, 0.00000000e+00,\n",
      "       0.00000000e+00, 0.00000000e+00, 0.00000000e+00, 5.27683148e-03,\n",
      "       6.32413723e-02, 4.29009126e-02, 4.54755435e-02, 2.47589320e-01,\n",
      "       2.43576629e-01, 2.56670361e+00, 4.89420292e-02, 4.27555333e+00,\n",
      "       1.25148854e-01, 1.21894736e+00, 2.13922411e+00, 6.37667707e-01,\n",
      "       1.81117247e+00, 1.47399142e+01, 3.99974551e-02, 2.93291290e-02,\n",
      "       2.40139043e-01, 2.49452957e-01]),\n",
      " array([6.70579111e+00, 1.81538873e-03, 1.16577780e+02, 0.00000000e+00,\n",
      "       0.00000000e+00, 0.00000000e+00, 0.00000000e+00, 1.93303990e+02,\n",
      "       2.81416844e+00, 1.00093072e+01, 9.47796493e+01, 2.56653021e+02,\n",
      "       4.47156459e+00, 0.00000000e+00, 0.00000000e+00, 0.00000000e+00,\n",
      "       0.00000000e+00, 0.00000000e+00, 0.00000000e+00, 4.69158875e-03,\n",
      "       4.05971323e-03, 0.00000000e+00, 0.00000000e+00, 0.00000000e+00,\n",
      "       0.00000000e+00, 2.57606148e+00, 0.00000000e+00, 0.00000000e+00,\n",
      "       3.93850493e+00, 1.88607295e-02, 2.43438731e-02, 1.83051094e-01,\n",
      "       0.00000000e+00, 0.00000000e+00, 0.00000000e+00, 0.00000000e+00,\n",
      "       3.33926730e+00, 0.00000000e+00]),\n",
      " array([1.24002031e+01, 4.72324884e-03, 4.01410396e-01, 0.00000000e+00,\n",
      "       0.00000000e+00, 0.00000000e+00, 5.11441861e+00, 0.00000000e+00,\n",
      "       2.81416844e+00, 5.56072624e-01, 0.00000000e+00, 0.00000000e+00,\n",
      "       5.96208612e-01, 2.40624266e+02, 0.00000000e+00, 2.19288087e+01,\n",
      "       0.00000000e+00, 0.00000000e+00, 5.37475010e+00, 4.69158875e-03,\n",
      "       4.05971323e-03, 0.00000000e+00, 0.00000000e+00, 0.00000000e+00,\n",
      "       0.00000000e+00, 2.57606148e+00, 0.00000000e+00, 0.00000000e+00,\n",
      "       2.31367858e+00, 9.05315016e-02, 6.81628448e-01, 5.85763500e-01,\n",
      "       4.36309918e-01, 3.18041439e+00, 5.46515429e-01, 1.57513617e-01,\n",
      "       8.67342155e-02, 2.95471905e-01]),\n",
      " array([6.35897010e-01, 3.17577964e-03, 3.83447133e-03, 0.00000000e+00,\n",
      "       4.21665995e-02, 9.82458359e-03, 2.21499290e-03, 0.00000000e+00,\n",
      "       4.99700763e-02, 2.10724792e-04, 0.00000000e+00, 0.00000000e+00,\n",
      "       3.06625261e-03, 7.86077838e-03, 0.00000000e+00, 0.00000000e+00,\n",
      "       0.00000000e+00, 0.00000000e+00, 0.00000000e+00, 4.75386557e-02,\n",
      "       5.78856382e-02, 1.86133056e-03, 1.68794636e-03, 6.74995221e-03,\n",
      "       6.73473060e-03, 2.54075081e+00, 1.11320392e-01, 2.88731681e-01,\n",
      "       3.60095821e+00, 1.45243750e+00, 1.55593486e+00, 1.57990079e+00,\n",
      "       5.35207148e-01, 6.68269815e-02, 6.50895379e-03, 9.62147382e-04,\n",
      "       3.32906880e-02, 1.49136044e-03]),\n",
      " array([8.53515237e-04, 1.12241879e-03, 8.07230065e-02, 0.00000000e+00,\n",
      "       0.00000000e+00, 0.00000000e+00, 3.47132485e-02, 0.00000000e+00,\n",
      "       2.81416844e+00, 0.00000000e+00, 8.57734383e-01, 0.00000000e+00,\n",
      "       0.00000000e+00, 1.64258256e-01, 0.00000000e+00, 2.88373756e+01,\n",
      "       0.00000000e+00, 0.00000000e+00, 1.21600681e-01, 1.62507293e-02,\n",
      "       1.93341546e-02, 4.45693986e-03, 5.81915502e-03, 0.00000000e+00,\n",
      "       1.05936162e-01, 2.55968426e+00, 1.13665049e-01, 1.13028855e+00,\n",
      "       3.02025427e+00, 1.90576577e+00, 2.10761763e+00, 2.92591850e-01,\n",
      "       7.00859823e-02, 1.32633611e-01, 2.67503419e-03, 1.30667405e-03,\n",
      "       1.03021410e-02, 4.22720652e-03]),\n",
      " array([1.83653335e+01, 4.69442030e-03, 1.43400586e+00, 0.00000000e+00,\n",
      "       0.00000000e+00, 0.00000000e+00, 3.40961241e+00, 0.00000000e+00,\n",
      "       2.81416844e+00, 8.65001859e-01, 1.05310721e+01, 0.00000000e+00,\n",
      "       3.31227007e-01, 1.23308412e+02, 0.00000000e+00, 3.04566787e+00,\n",
      "       0.00000000e+00, 0.00000000e+00, 0.00000000e+00, 4.69158875e-03,\n",
      "       4.05971323e-03, 0.00000000e+00, 0.00000000e+00, 4.79705745e-01,\n",
      "       4.78623975e-01, 2.57606148e+00, 0.00000000e+00, 0.00000000e+00,\n",
      "       1.72985315e+00, 1.58220564e-01, 5.13926211e-01, 1.34237469e+00,\n",
      "       4.61703617e-02, 7.91147858e-01, 4.37913004e-01, 5.16294633e-01,\n",
      "       2.74658349e-01, 1.83462948e-01]),\n",
      " array([1.73250599e+01, 9.67650764e-04, 4.68044776e+00, 0.00000000e+00,\n",
      "       0.00000000e+00, 0.00000000e+00, 0.00000000e+00, 0.00000000e+00,\n",
      "       2.81416844e+00, 1.24560268e+02, 7.10847370e+01, 2.24571394e+02,\n",
      "       1.20608034e+02, 2.59293390e+00, 0.00000000e+00, 5.48220217e+01,\n",
      "       0.00000000e+00, 0.00000000e+00, 0.00000000e+00, 4.69158875e-03,\n",
      "       4.05971323e-03, 0.00000000e+00, 0.00000000e+00, 0.00000000e+00,\n",
      "       0.00000000e+00, 2.57606148e+00, 0.00000000e+00, 0.00000000e+00,\n",
      "       2.44418983e+00, 4.19651231e-01, 6.39026670e-01, 2.74576641e-01,\n",
      "       1.55824971e-02, 1.18672179e+00, 6.56869506e-01, 9.05703297e-01,\n",
      "       0.00000000e+00, 0.00000000e+00]),\n",
      " array([4.31914939e-02, 3.71474717e-03, 3.17191271e-02, 0.00000000e+00,\n",
      "       0.00000000e+00, 0.00000000e+00, 5.51554948e-01, 0.00000000e+00,\n",
      "       2.81416844e+00, 7.08720010e-01, 1.30089715e+01, 2.51620609e+00,\n",
      "       9.93681021e-01, 4.67744938e+00, 9.60819011e+01, 2.14988320e+00,\n",
      "       0.00000000e+00, 0.00000000e+00, 0.00000000e+00, 3.33010809e-02,\n",
      "       2.95324237e-02, 4.12019330e-03, 0.00000000e+00, 0.00000000e+00,\n",
      "       0.00000000e+00, 2.51595338e+00, 1.81276947e-01, 3.19459307e-01,\n",
      "       1.97424942e+00, 5.78580614e-01, 9.74709587e-01, 3.67896806e-01,\n",
      "       8.33918210e-01, 5.44495879e-01, 1.85469037e-02, 2.05900153e-02,\n",
      "       6.20744876e-02, 8.51995113e-03]),\n",
      " array([2.87775551e-01, 1.39744820e-04, 4.10977240e-02, 0.00000000e+00,\n",
      "       0.00000000e+00, 0.00000000e+00, 1.15284026e+00, 7.39414168e+01,\n",
      "       1.38401727e-01, 0.00000000e+00, 0.00000000e+00, 2.10371329e+00,\n",
      "       0.00000000e+00, 1.70028452e-01, 0.00000000e+00, 4.49360833e-01,\n",
      "       0.00000000e+00, 0.00000000e+00, 0.00000000e+00, 6.92201618e-03,\n",
      "       5.92318815e-03, 1.07648493e-01, 8.60510712e-02, 3.46803662e+00,\n",
      "       3.46021595e+00, 2.55494622e+00, 1.99420283e-01, 0.00000000e+00,\n",
      "       7.22628935e-01, 2.31739619e-01, 2.13667372e+00, 2.52070359e-01,\n",
      "       1.96867395e-01, 6.49778814e-01, 2.77392762e-01, 2.48320647e-01,\n",
      "       3.25324402e+00, 3.26457990e+00])]\n"
     ]
    }
   ],
   "source": [
    "from pprint import pprint\n",
    "\n",
    "centers=kmeans_model.clusterCenters()\n",
    "pprint(centers)"
   ]
  },
  {
   "cell_type": "code",
   "execution_count": 9,
   "id": "db74c04b",
   "metadata": {},
   "outputs": [
    {
     "name": "stdout",
     "output_type": "stream",
     "text": [
      "+-------+----------------+------+\n",
      "|cluster|           label| count|\n",
      "+-------+----------------+------+\n",
      "|      0|        neptune.| 86676|\n",
      "|      0|           nmap.|   102|\n",
      "|      0|      portsweep.|    23|\n",
      "|      0|         normal.|    10|\n",
      "|      0|           imap.|     3|\n",
      "|      1|          smurf.|280674|\n",
      "|      1|         normal.|   107|\n",
      "|      1|          satan.|     1|\n",
      "|      2|        neptune.| 20457|\n",
      "|      2|      portsweep.|   746|\n",
      "|      2|         normal.|   114|\n",
      "|      2|        ipsweep.|    18|\n",
      "|      3|         normal.|     2|\n",
      "|      4|         normal.| 39171|\n",
      "|      4|    warezclient.|   624|\n",
      "|      4|           back.|   478|\n",
      "|      4|           nmap.|   103|\n",
      "|      4|        ipsweep.|    87|\n",
      "|      4|            pod.|    74|\n",
      "|      4|buffer_overflow.|    12|\n",
      "|      4|           imap.|     8|\n",
      "|      4|        neptune.|     4|\n",
      "|      4|       multihop.|     3|\n",
      "|      4|    warezmaster.|     3|\n",
      "|      4|     loadmodule.|     3|\n",
      "+-------+----------------+------+\n",
      "only showing top 25 rows\n",
      "\n"
     ]
    },
    {
     "name": "stderr",
     "output_type": "stream",
     "text": [
      "\r",
      "[Stage 58:==============================================>         (15 + 3) / 18]\r",
      "\r",
      "                                                                                \r"
     ]
    }
   ],
   "source": [
    "with_cluster = model.transform(numeric)\n",
    "with_cluster.select(\"cluster\", \"label\").groupBy(\"cluster\", \"label\").count().orderBy(col(\"cluster\"), \n",
    "                                                                                    col(\"count\").desc()).show(25)"
   ]
  },
  {
   "cell_type": "code",
   "execution_count": 10,
   "id": "e57c59a1",
   "metadata": {},
   "outputs": [],
   "source": [
    "centers_df = spark.createDataFrame([(i, center.tolist()) for i, center in enumerate(centers)], \n",
    "                                   [\"cluster\", \"centroid\"])\n",
    "\n",
    "predictions = predictions.join(centers_df, on=\"cluster\")"
   ]
  },
  {
   "cell_type": "code",
   "execution_count": 11,
   "id": "78229a0e",
   "metadata": {},
   "outputs": [],
   "source": [
    "from pyspark.sql.functions import udf,sqrt\n",
    "from pyspark.sql.types import FloatType\n",
    "\n",
    "def calculate_distance(v1, v2):\n",
    "    return float(sum((v1[i] - v2[i]) ** 2 for i in range(len(v1))))\n",
    "\n",
    "distance_udf = udf(lambda v1, v2: sum((v1[i] - v2[i]) ** 2 for i in range(len(v1))), FloatType())\n",
    "\n",
    "predictions = predictions.withColumn(\"squared_distance\", distance_udf(col(\"scaledFeatureVector\"), \n",
    "                                                                      col(\"centroid\")))\n",
    "predictions = predictions.withColumn(\"distance\", sqrt(col(\"squared_distance\")))"
   ]
  },
  {
   "cell_type": "code",
   "execution_count": 12,
   "id": "55ebe049",
   "metadata": {},
   "outputs": [],
   "source": [
    "from pyspark.sql.functions import mean,stddev\n",
    "\n",
    "distance_stats = predictions.select(mean(\"distance\").alias(\"mean_distance\"), stddev(\"distance\")\n",
    "                                    .alias(\"stddev_distance\"))\n",
    "\n",
    "mean_distance = distance_stats['mean_distance']\n",
    "stddev_distance = distance_stats['stddev_distance']\n",
    "\n",
    "anomaly_threshold = distance_stats.mean_distance + 2 * distance_stats.stddev_distance\n"
   ]
  },
  {
   "cell_type": "code",
   "execution_count": 13,
   "id": "0e599ef3",
   "metadata": {
    "scrolled": true
   },
   "outputs": [
    {
     "ename": "AnalysisException",
     "evalue": "[MISSING_ATTRIBUTES.RESOLVED_ATTRIBUTE_MISSING_FROM_INPUT] Resolved attribute(s) \"mean_distance\", \"stddev_distance\" missing from \"cluster\", \"duration\", \"src_bytes\", \"dst_bytes\", \"land\", \"wrong_fragment\", \"urgent\", \"hot\", \"num_failed_logins\", \"logged_in\", \"num_compromised\", \"root_shell\", \"su_attempted\", \"num_root\", \"num_file_creations\", \"num_shells\", \"num_access_files\", \"num_outbound_cmds\", \"is_host_login\", \"is_guest_login\", \"count\", \"srv_count\", \"serror_rate\", \"srv_serror_rate\", \"rerror_rate\", \"srv_rerror_rate\", \"same_srv_rate\", \"diff_srv_rate\", \"srv_diff_host_rate\", \"dst_host_count\", \"dst_host_srv_count\", \"dst_host_same_srv_rate\", \"dst_host_diff_srv_rate\", \"dst_host_same_src_port_rate\", \"dst_host_srv_diff_host_rate\", \"dst_host_serror_rate\", \"dst_host_srv_serror_rate\", \"dst_host_rerror_rate\", \"dst_host_srv_rerror_rate\", \"label\", \"featureVector\", \"scaledFeatureVector\", \"centroid\", \"squared_distance\", \"distance\" in operator !Project [cluster#5491, duration#101, src_bytes#105, dst_bytes#106, land#107, wrong_fragment#108, urgent#109, hot#110, num_failed_logins#111, logged_in#112, num_compromised#113, root_shell#114, su_attempted#115, num_root#116, num_file_creations#117, num_shells#118, num_access_files#119, num_outbound_cmds#120, is_host_login#121, is_guest_login#122, count#123, srv_count#124, serror_rate#125, srv_serror_rate#126, ... 22 more fields]. ;\n!Project [cluster#5491, duration#101, src_bytes#105, dst_bytes#106, land#107, wrong_fragment#108, urgent#109, hot#110, num_failed_logins#111, logged_in#112, num_compromised#113, root_shell#114, su_attempted#115, num_root#116, num_file_creations#117, num_shells#118, num_access_files#119, num_outbound_cmds#120, is_host_login#121, is_guest_login#122, count#123, srv_count#124, serror_rate#125, srv_serror_rate#126, ... 22 more fields]\n+- Project [cluster#5491, duration#101, src_bytes#105, dst_bytes#106, land#107, wrong_fragment#108, urgent#109, hot#110, num_failed_logins#111, logged_in#112, num_compromised#113, root_shell#114, su_attempted#115, num_root#116, num_file_creations#117, num_shells#118, num_access_files#119, num_outbound_cmds#120, is_host_login#121, is_guest_login#122, count#123, srv_count#124, serror_rate#125, srv_serror_rate#126, ... 21 more fields]\n   +- Project [cluster#5491, duration#101, src_bytes#105, dst_bytes#106, land#107, wrong_fragment#108, urgent#109, hot#110, num_failed_logins#111, logged_in#112, num_compromised#113, root_shell#114, su_attempted#115, num_root#116, num_file_creations#117, num_shells#118, num_access_files#119, num_outbound_cmds#120, is_host_login#121, is_guest_login#122, count#123, srv_count#124, serror_rate#125, srv_serror_rate#126, ... 20 more fields]\n      +- Project [cluster#5491, duration#101, src_bytes#105, dst_bytes#106, land#107, wrong_fragment#108, urgent#109, hot#110, num_failed_logins#111, logged_in#112, num_compromised#113, root_shell#114, su_attempted#115, num_root#116, num_file_creations#117, num_shells#118, num_access_files#119, num_outbound_cmds#120, is_host_login#121, is_guest_login#122, count#123, srv_count#124, serror_rate#125, srv_serror_rate#126, ... 19 more fields]\n         +- Join Inner, (cast(cluster#5491 as bigint) = cluster#6698L)\n            :- Project [duration#101, src_bytes#105, dst_bytes#106, land#107, wrong_fragment#108, urgent#109, hot#110, num_failed_logins#111, logged_in#112, num_compromised#113, root_shell#114, su_attempted#115, num_root#116, num_file_creations#117, num_shells#118, num_access_files#119, num_outbound_cmds#120, is_host_login#121, is_guest_login#122, count#123, srv_count#124, serror_rate#125, srv_serror_rate#126, rerror_rate#127, ... 18 more fields]\n            :  +- Project [duration#101, src_bytes#105, dst_bytes#106, land#107, wrong_fragment#108, urgent#109, hot#110, num_failed_logins#111, logged_in#112, num_compromised#113, root_shell#114, su_attempted#115, num_root#116, num_file_creations#117, num_shells#118, num_access_files#119, num_outbound_cmds#120, is_host_login#121, is_guest_login#122, count#123, srv_count#124, serror_rate#125, srv_serror_rate#126, rerror_rate#127, ... 17 more fields]\n            :     +- Project [duration#101, src_bytes#105, dst_bytes#106, land#107, wrong_fragment#108, urgent#109, hot#110, num_failed_logins#111, logged_in#112, num_compromised#113, root_shell#114, su_attempted#115, num_root#116, num_file_creations#117, num_shells#118, num_access_files#119, num_outbound_cmds#120, is_host_login#121, is_guest_login#122, count#123, srv_count#124, serror_rate#125, srv_serror_rate#126, rerror_rate#127, ... 16 more fields]\n            :        +- Project [duration#101, src_bytes#105, dst_bytes#106, land#107, wrong_fragment#108, urgent#109, hot#110, num_failed_logins#111, logged_in#112, num_compromised#113, root_shell#114, su_attempted#115, num_root#116, num_file_creations#117, num_shells#118, num_access_files#119, num_outbound_cmds#120, is_host_login#121, is_guest_login#122, count#123, srv_count#124, serror_rate#125, srv_serror_rate#126, rerror_rate#127, ... 15 more fields]\n            :           +- Project [_c0#17 AS duration#101, _c1#18 AS protocol_type#102, _c2#19 AS service#103, _c3#20 AS flag#104, _c4#21 AS src_bytes#105, _c5#22 AS dst_bytes#106, _c6#23 AS land#107, _c7#24 AS wrong_fragment#108, _c8#25 AS urgent#109, _c9#26 AS hot#110, _c10#27 AS num_failed_logins#111, _c11#28 AS logged_in#112, _c12#29 AS num_compromised#113, _c13#30 AS root_shell#114, _c14#31 AS su_attempted#115, _c15#32 AS num_root#116, _c16#33 AS num_file_creations#117, _c17#34 AS num_shells#118, _c18#35 AS num_access_files#119, _c19#36 AS num_outbound_cmds#120, _c20#37 AS is_host_login#121, _c21#38 AS is_guest_login#122, _c22#39 AS count#123, _c23#40 AS srv_count#124, ... 18 more fields]\n            :              +- Relation [_c0#17,_c1#18,_c2#19,_c3#20,_c4#21,_c5#22,_c6#23,_c7#24,_c8#25,_c9#26,_c10#27,_c11#28,_c12#29,_c13#30,_c14#31,_c15#32,_c16#33,_c17#34,_c18#35,_c19#36,_c20#37,_c21#38,_c22#39,_c23#40,... 18 more fields] csv\n            +- LogicalRDD [cluster#6698L, centroid#6699], false\n",
     "output_type": "error",
     "traceback": [
      "\u001b[0;31m---------------------------------------------------------------------------\u001b[0m",
      "\u001b[0;31mAnalysisException\u001b[0m                         Traceback (most recent call last)",
      "\u001b[0;32m/tmp/ipykernel_31084/4078495336.py\u001b[0m in \u001b[0;36m<module>\u001b[0;34m\u001b[0m\n\u001b[1;32m      1\u001b[0m \u001b[0;32mfrom\u001b[0m \u001b[0mpyspark\u001b[0m\u001b[0;34m.\u001b[0m\u001b[0msql\u001b[0m\u001b[0;34m.\u001b[0m\u001b[0mfunctions\u001b[0m \u001b[0;32mimport\u001b[0m \u001b[0mwhen\u001b[0m\u001b[0;34m\u001b[0m\u001b[0;34m\u001b[0m\u001b[0m\n\u001b[1;32m      2\u001b[0m \u001b[0;34m\u001b[0m\u001b[0m\n\u001b[0;32m----> 3\u001b[0;31m \u001b[0mpredictions\u001b[0m \u001b[0;34m=\u001b[0m \u001b[0mpredictions\u001b[0m\u001b[0;34m.\u001b[0m\u001b[0mwithColumn\u001b[0m\u001b[0;34m(\u001b[0m\u001b[0;34m\"is_anomaly\"\u001b[0m\u001b[0;34m,\u001b[0m \u001b[0mwhen\u001b[0m\u001b[0;34m(\u001b[0m\u001b[0mcol\u001b[0m\u001b[0;34m(\u001b[0m\u001b[0;34m\"distance\"\u001b[0m\u001b[0;34m)\u001b[0m \u001b[0;34m>\u001b[0m \u001b[0manomaly_threshold\u001b[0m\u001b[0;34m,\u001b[0m \u001b[0;36m1\u001b[0m\u001b[0;34m)\u001b[0m\u001b[0;34m.\u001b[0m\u001b[0motherwise\u001b[0m\u001b[0;34m(\u001b[0m\u001b[0;36m0\u001b[0m\u001b[0;34m)\u001b[0m\u001b[0;34m)\u001b[0m\u001b[0;34m\u001b[0m\u001b[0;34m\u001b[0m\u001b[0m\n\u001b[0m",
      "\u001b[0;32m~/.local/lib/python3.10/site-packages/pyspark/sql/dataframe.py\u001b[0m in \u001b[0;36mwithColumn\u001b[0;34m(self, colName, col)\u001b[0m\n\u001b[1;32m   5172\u001b[0m                 \u001b[0mmessage_parameters\u001b[0m\u001b[0;34m=\u001b[0m\u001b[0;34m{\u001b[0m\u001b[0;34m\"arg_name\"\u001b[0m\u001b[0;34m:\u001b[0m \u001b[0;34m\"col\"\u001b[0m\u001b[0;34m,\u001b[0m \u001b[0;34m\"arg_type\"\u001b[0m\u001b[0;34m:\u001b[0m \u001b[0mtype\u001b[0m\u001b[0;34m(\u001b[0m\u001b[0mcol\u001b[0m\u001b[0;34m)\u001b[0m\u001b[0;34m.\u001b[0m\u001b[0m__name__\u001b[0m\u001b[0;34m}\u001b[0m\u001b[0;34m,\u001b[0m\u001b[0;34m\u001b[0m\u001b[0;34m\u001b[0m\u001b[0m\n\u001b[1;32m   5173\u001b[0m             )\n\u001b[0;32m-> 5174\u001b[0;31m         \u001b[0;32mreturn\u001b[0m \u001b[0mDataFrame\u001b[0m\u001b[0;34m(\u001b[0m\u001b[0mself\u001b[0m\u001b[0;34m.\u001b[0m\u001b[0m_jdf\u001b[0m\u001b[0;34m.\u001b[0m\u001b[0mwithColumn\u001b[0m\u001b[0;34m(\u001b[0m\u001b[0mcolName\u001b[0m\u001b[0;34m,\u001b[0m \u001b[0mcol\u001b[0m\u001b[0;34m.\u001b[0m\u001b[0m_jc\u001b[0m\u001b[0;34m)\u001b[0m\u001b[0;34m,\u001b[0m \u001b[0mself\u001b[0m\u001b[0;34m.\u001b[0m\u001b[0msparkSession\u001b[0m\u001b[0;34m)\u001b[0m\u001b[0;34m\u001b[0m\u001b[0;34m\u001b[0m\u001b[0m\n\u001b[0m\u001b[1;32m   5175\u001b[0m \u001b[0;34m\u001b[0m\u001b[0m\n\u001b[1;32m   5176\u001b[0m     \u001b[0;32mdef\u001b[0m \u001b[0mwithColumnRenamed\u001b[0m\u001b[0;34m(\u001b[0m\u001b[0mself\u001b[0m\u001b[0;34m,\u001b[0m \u001b[0mexisting\u001b[0m\u001b[0;34m:\u001b[0m \u001b[0mstr\u001b[0m\u001b[0;34m,\u001b[0m \u001b[0mnew\u001b[0m\u001b[0;34m:\u001b[0m \u001b[0mstr\u001b[0m\u001b[0;34m)\u001b[0m \u001b[0;34m->\u001b[0m \u001b[0;34m\"DataFrame\"\u001b[0m\u001b[0;34m:\u001b[0m\u001b[0;34m\u001b[0m\u001b[0;34m\u001b[0m\u001b[0m\n",
      "\u001b[0;32m~/.local/lib/python3.10/site-packages/py4j/java_gateway.py\u001b[0m in \u001b[0;36m__call__\u001b[0;34m(self, *args)\u001b[0m\n\u001b[1;32m   1320\u001b[0m \u001b[0;34m\u001b[0m\u001b[0m\n\u001b[1;32m   1321\u001b[0m         \u001b[0manswer\u001b[0m \u001b[0;34m=\u001b[0m \u001b[0mself\u001b[0m\u001b[0;34m.\u001b[0m\u001b[0mgateway_client\u001b[0m\u001b[0;34m.\u001b[0m\u001b[0msend_command\u001b[0m\u001b[0;34m(\u001b[0m\u001b[0mcommand\u001b[0m\u001b[0;34m)\u001b[0m\u001b[0;34m\u001b[0m\u001b[0;34m\u001b[0m\u001b[0m\n\u001b[0;32m-> 1322\u001b[0;31m         return_value = get_return_value(\n\u001b[0m\u001b[1;32m   1323\u001b[0m             answer, self.gateway_client, self.target_id, self.name)\n\u001b[1;32m   1324\u001b[0m \u001b[0;34m\u001b[0m\u001b[0m\n",
      "\u001b[0;32m~/.local/lib/python3.10/site-packages/pyspark/errors/exceptions/captured.py\u001b[0m in \u001b[0;36mdeco\u001b[0;34m(*a, **kw)\u001b[0m\n\u001b[1;32m    183\u001b[0m                 \u001b[0;31m# Hide where the exception came from that shows a non-Pythonic\u001b[0m\u001b[0;34m\u001b[0m\u001b[0;34m\u001b[0m\u001b[0m\n\u001b[1;32m    184\u001b[0m                 \u001b[0;31m# JVM exception message.\u001b[0m\u001b[0;34m\u001b[0m\u001b[0;34m\u001b[0m\u001b[0m\n\u001b[0;32m--> 185\u001b[0;31m                 \u001b[0;32mraise\u001b[0m \u001b[0mconverted\u001b[0m \u001b[0;32mfrom\u001b[0m \u001b[0;32mNone\u001b[0m\u001b[0;34m\u001b[0m\u001b[0;34m\u001b[0m\u001b[0m\n\u001b[0m\u001b[1;32m    186\u001b[0m             \u001b[0;32melse\u001b[0m\u001b[0;34m:\u001b[0m\u001b[0;34m\u001b[0m\u001b[0;34m\u001b[0m\u001b[0m\n\u001b[1;32m    187\u001b[0m                 \u001b[0;32mraise\u001b[0m\u001b[0;34m\u001b[0m\u001b[0;34m\u001b[0m\u001b[0m\n",
      "\u001b[0;31mAnalysisException\u001b[0m: [MISSING_ATTRIBUTES.RESOLVED_ATTRIBUTE_MISSING_FROM_INPUT] Resolved attribute(s) \"mean_distance\", \"stddev_distance\" missing from \"cluster\", \"duration\", \"src_bytes\", \"dst_bytes\", \"land\", \"wrong_fragment\", \"urgent\", \"hot\", \"num_failed_logins\", \"logged_in\", \"num_compromised\", \"root_shell\", \"su_attempted\", \"num_root\", \"num_file_creations\", \"num_shells\", \"num_access_files\", \"num_outbound_cmds\", \"is_host_login\", \"is_guest_login\", \"count\", \"srv_count\", \"serror_rate\", \"srv_serror_rate\", \"rerror_rate\", \"srv_rerror_rate\", \"same_srv_rate\", \"diff_srv_rate\", \"srv_diff_host_rate\", \"dst_host_count\", \"dst_host_srv_count\", \"dst_host_same_srv_rate\", \"dst_host_diff_srv_rate\", \"dst_host_same_src_port_rate\", \"dst_host_srv_diff_host_rate\", \"dst_host_serror_rate\", \"dst_host_srv_serror_rate\", \"dst_host_rerror_rate\", \"dst_host_srv_rerror_rate\", \"label\", \"featureVector\", \"scaledFeatureVector\", \"centroid\", \"squared_distance\", \"distance\" in operator !Project [cluster#5491, duration#101, src_bytes#105, dst_bytes#106, land#107, wrong_fragment#108, urgent#109, hot#110, num_failed_logins#111, logged_in#112, num_compromised#113, root_shell#114, su_attempted#115, num_root#116, num_file_creations#117, num_shells#118, num_access_files#119, num_outbound_cmds#120, is_host_login#121, is_guest_login#122, count#123, srv_count#124, serror_rate#125, srv_serror_rate#126, ... 22 more fields]. ;\n!Project [cluster#5491, duration#101, src_bytes#105, dst_bytes#106, land#107, wrong_fragment#108, urgent#109, hot#110, num_failed_logins#111, logged_in#112, num_compromised#113, root_shell#114, su_attempted#115, num_root#116, num_file_creations#117, num_shells#118, num_access_files#119, num_outbound_cmds#120, is_host_login#121, is_guest_login#122, count#123, srv_count#124, serror_rate#125, srv_serror_rate#126, ... 22 more fields]\n+- Project [cluster#5491, duration#101, src_bytes#105, dst_bytes#106, land#107, wrong_fragment#108, urgent#109, hot#110, num_failed_logins#111, logged_in#112, num_compromised#113, root_shell#114, su_attempted#115, num_root#116, num_file_creations#117, num_shells#118, num_access_files#119, num_outbound_cmds#120, is_host_login#121, is_guest_login#122, count#123, srv_count#124, serror_rate#125, srv_serror_rate#126, ... 21 more fields]\n   +- Project [cluster#5491, duration#101, src_bytes#105, dst_bytes#106, land#107, wrong_fragment#108, urgent#109, hot#110, num_failed_logins#111, logged_in#112, num_compromised#113, root_shell#114, su_attempted#115, num_root#116, num_file_creations#117, num_shells#118, num_access_files#119, num_outbound_cmds#120, is_host_login#121, is_guest_login#122, count#123, srv_count#124, serror_rate#125, srv_serror_rate#126, ... 20 more fields]\n      +- Project [cluster#5491, duration#101, src_bytes#105, dst_bytes#106, land#107, wrong_fragment#108, urgent#109, hot#110, num_failed_logins#111, logged_in#112, num_compromised#113, root_shell#114, su_attempted#115, num_root#116, num_file_creations#117, num_shells#118, num_access_files#119, num_outbound_cmds#120, is_host_login#121, is_guest_login#122, count#123, srv_count#124, serror_rate#125, srv_serror_rate#126, ... 19 more fields]\n         +- Join Inner, (cast(cluster#5491 as bigint) = cluster#6698L)\n            :- Project [duration#101, src_bytes#105, dst_bytes#106, land#107, wrong_fragment#108, urgent#109, hot#110, num_failed_logins#111, logged_in#112, num_compromised#113, root_shell#114, su_attempted#115, num_root#116, num_file_creations#117, num_shells#118, num_access_files#119, num_outbound_cmds#120, is_host_login#121, is_guest_login#122, count#123, srv_count#124, serror_rate#125, srv_serror_rate#126, rerror_rate#127, ... 18 more fields]\n            :  +- Project [duration#101, src_bytes#105, dst_bytes#106, land#107, wrong_fragment#108, urgent#109, hot#110, num_failed_logins#111, logged_in#112, num_compromised#113, root_shell#114, su_attempted#115, num_root#116, num_file_creations#117, num_shells#118, num_access_files#119, num_outbound_cmds#120, is_host_login#121, is_guest_login#122, count#123, srv_count#124, serror_rate#125, srv_serror_rate#126, rerror_rate#127, ... 17 more fields]\n            :     +- Project [duration#101, src_bytes#105, dst_bytes#106, land#107, wrong_fragment#108, urgent#109, hot#110, num_failed_logins#111, logged_in#112, num_compromised#113, root_shell#114, su_attempted#115, num_root#116, num_file_creations#117, num_shells#118, num_access_files#119, num_outbound_cmds#120, is_host_login#121, is_guest_login#122, count#123, srv_count#124, serror_rate#125, srv_serror_rate#126, rerror_rate#127, ... 16 more fields]\n            :        +- Project [duration#101, src_bytes#105, dst_bytes#106, land#107, wrong_fragment#108, urgent#109, hot#110, num_failed_logins#111, logged_in#112, num_compromised#113, root_shell#114, su_attempted#115, num_root#116, num_file_creations#117, num_shells#118, num_access_files#119, num_outbound_cmds#120, is_host_login#121, is_guest_login#122, count#123, srv_count#124, serror_rate#125, srv_serror_rate#126, rerror_rate#127, ... 15 more fields]\n            :           +- Project [_c0#17 AS duration#101, _c1#18 AS protocol_type#102, _c2#19 AS service#103, _c3#20 AS flag#104, _c4#21 AS src_bytes#105, _c5#22 AS dst_bytes#106, _c6#23 AS land#107, _c7#24 AS wrong_fragment#108, _c8#25 AS urgent#109, _c9#26 AS hot#110, _c10#27 AS num_failed_logins#111, _c11#28 AS logged_in#112, _c12#29 AS num_compromised#113, _c13#30 AS root_shell#114, _c14#31 AS su_attempted#115, _c15#32 AS num_root#116, _c16#33 AS num_file_creations#117, _c17#34 AS num_shells#118, _c18#35 AS num_access_files#119, _c19#36 AS num_outbound_cmds#120, _c20#37 AS is_host_login#121, _c21#38 AS is_guest_login#122, _c22#39 AS count#123, _c23#40 AS srv_count#124, ... 18 more fields]\n            :              +- Relation [_c0#17,_c1#18,_c2#19,_c3#20,_c4#21,_c5#22,_c6#23,_c7#24,_c8#25,_c9#26,_c10#27,_c11#28,_c12#29,_c13#30,_c14#31,_c15#32,_c16#33,_c17#34,_c18#35,_c19#36,_c20#37,_c21#38,_c22#39,_c23#40,... 18 more fields] csv\n            +- LogicalRDD [cluster#6698L, centroid#6699], false\n"
     ]
    }
   ],
   "source": [
    "from pyspark.sql.functions import when\n",
    "\n",
    "predictions = predictions.withColumn(\"is_anomaly\", when(col(\"distance\") > anomaly_threshold, 1).otherwise(0))"
   ]
  },
  {
   "cell_type": "code",
   "execution_count": null,
   "id": "9fd1e236",
   "metadata": {},
   "outputs": [],
   "source": [
    "predictions.select(\"cluster\", \"is_anomaly\", \"distance\", \"label\").show(25)"
   ]
  },
  {
   "cell_type": "code",
   "execution_count": null,
   "id": "c2600934",
   "metadata": {},
   "outputs": [],
   "source": [
    "spark.stop()"
   ]
  },
  {
   "cell_type": "code",
   "execution_count": null,
   "id": "35977bed",
   "metadata": {},
   "outputs": [],
   "source": []
  }
 ],
 "metadata": {
  "kernelspec": {
   "display_name": "Python 3 (ipykernel)",
   "language": "python",
   "name": "python3"
  },
  "language_info": {
   "codemirror_mode": {
    "name": "ipython",
    "version": 3
   },
   "file_extension": ".py",
   "mimetype": "text/x-python",
   "name": "python",
   "nbconvert_exporter": "python",
   "pygments_lexer": "ipython3",
   "version": "3.10.12"
  }
 },
 "nbformat": 4,
 "nbformat_minor": 5
}
