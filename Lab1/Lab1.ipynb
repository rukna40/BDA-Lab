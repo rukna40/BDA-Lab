{
 "cells": [
  {
   "cell_type": "code",
   "execution_count": 42,
   "id": "18d51c12",
   "metadata": {},
   "outputs": [
    {
     "name": "stderr",
     "output_type": "stream",
     "text": [
      "24/07/29 10:59:44 WARN Utils: Service 'SparkUI' could not bind on port 4040. Attempting port 4041.\n"
     ]
    }
   ],
   "source": [
    "from pyspark.sql import SparkSession\n",
    "\n",
    "spark = SparkSession.builder.appName(\"Lab1\").getOrCreate()\n",
    "\n",
    "data = [(1,), (2,), (3,), (4,)]\n",
    "df = spark.createDataFrame(data, [\"number\"])"
   ]
  },
  {
   "cell_type": "code",
   "execution_count": 43,
   "id": "d55ae12b",
   "metadata": {},
   "outputs": [
    {
     "name": "stdout",
     "output_type": "stream",
     "text": [
      "+------+-------+\n",
      "|number|squared|\n",
      "+------+-------+\n",
      "|     1|    1.0|\n",
      "|     2|    4.0|\n",
      "|     3|    9.0|\n",
      "|     4|   16.0|\n",
      "+------+-------+\n",
      "\n"
     ]
    }
   ],
   "source": [
    "from pyspark.sql.functions import col\n",
    "\n",
    "df1 = df.withColumn(\"squared\", col(\"number\") ** 2)\n",
    "df1.show()"
   ]
  },
  {
   "cell_type": "code",
   "execution_count": 44,
   "id": "d96d7111",
   "metadata": {},
   "outputs": [
    {
     "name": "stdout",
     "output_type": "stream",
     "text": [
      "Max value: 4\n"
     ]
    }
   ],
   "source": [
    "from pyspark.sql.functions import max\n",
    "\n",
    "max_val= df.select(max(\"number\")).collect()[0][0]\n",
    "print(\"Max value:\",max_val)"
   ]
  },
  {
   "cell_type": "code",
   "execution_count": 45,
   "id": "558a8efc",
   "metadata": {},
   "outputs": [
    {
     "name": "stdout",
     "output_type": "stream",
     "text": [
      "Avg value: 2.5\n"
     ]
    }
   ],
   "source": [
    "from pyspark.sql.functions import avg\n",
    "\n",
    "avg_val = df.select(avg(\"number\")).collect()[0][0]\n",
    "print(\"Avg value:\",avg_val)"
   ]
  },
  {
   "cell_type": "code",
   "execution_count": 46,
   "id": "006cc1a8",
   "metadata": {},
   "outputs": [],
   "source": [
    "df2 = spark.read.csv(\"username.csv\",header=True)\n",
    "# df2.show()"
   ]
  },
  {
   "cell_type": "code",
   "execution_count": 47,
   "id": "3f9e43ee",
   "metadata": {},
   "outputs": [
    {
     "name": "stdout",
     "output_type": "stream",
     "text": [
      "+---------+----------+----------+---------+\n",
      "| Username|Identifier|First name|Last name|\n",
      "+---------+----------+----------+---------+\n",
      "| booker12|      9012|    Rachel|   Booker|\n",
      "|   grey07|      2070|     Laura|     Grey|\n",
      "|johnson81|      4081|     Craig|  Johnson|\n",
      "|jenkins46|      9346|      Mary|  Jenkins|\n",
      "|  smith79|      5079|     Jamie|    Smith|\n",
      "+---------+----------+----------+---------+\n",
      "\n",
      "root\n",
      " |-- Username: string (nullable = true)\n",
      " |-- Identifier: string (nullable = true)\n",
      " |-- First name: string (nullable = true)\n",
      " |-- Last name: string (nullable = true)\n",
      "\n"
     ]
    }
   ],
   "source": [
    "df2.show()\n",
    "df2.printSchema()"
   ]
  },
  {
   "cell_type": "code",
   "execution_count": 48,
   "id": "606fb756",
   "metadata": {},
   "outputs": [
    {
     "name": "stdout",
     "output_type": "stream",
     "text": [
      "+-------+------------------+\n",
      "|summary|            number|\n",
      "+-------+------------------+\n",
      "|  count|                 4|\n",
      "|   mean|               2.5|\n",
      "| stddev|1.2909944487358056|\n",
      "|    min|                 1|\n",
      "|    max|                 4|\n",
      "+-------+------------------+\n",
      "\n"
     ]
    }
   ],
   "source": [
    "summary = df.describe(\"number\")\n",
    "summary.show()"
   ]
  },
  {
   "cell_type": "code",
   "execution_count": 49,
   "id": "6e6defcf",
   "metadata": {},
   "outputs": [],
   "source": [
    "spark.stop()"
   ]
  }
 ],
 "metadata": {
  "kernelspec": {
   "display_name": "Python 3 (ipykernel)",
   "language": "python",
   "name": "python3"
  },
  "language_info": {
   "codemirror_mode": {
    "name": "ipython",
    "version": 3
   },
   "file_extension": ".py",
   "mimetype": "text/x-python",
   "name": "python",
   "nbconvert_exporter": "python",
   "pygments_lexer": "ipython3",
   "version": "3.10.12"
  }
 },
 "nbformat": 4,
 "nbformat_minor": 5
}
